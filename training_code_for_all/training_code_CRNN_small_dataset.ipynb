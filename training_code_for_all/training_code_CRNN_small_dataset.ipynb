{
 "cells": [
  {
   "cell_type": "code",
   "execution_count": 2,
   "id": "7165e8b2",
   "metadata": {},
   "outputs": [],
   "source": [
    "import tensorflow as tf"
   ]
  },
  {
   "cell_type": "code",
   "execution_count": 3,
   "id": "ca52336d",
   "metadata": {},
   "outputs": [
    {
     "name": "stdout",
     "output_type": "stream",
     "text": [
      "[PhysicalDevice(name='/physical_device:GPU:0', device_type='GPU')]\n"
     ]
    }
   ],
   "source": [
    "print(tf.config.list_physical_devices('GPU'))"
   ]
  },
  {
   "cell_type": "code",
   "execution_count": 4,
   "id": "9790089e",
   "metadata": {},
   "outputs": [],
   "source": [
    "import tensorflow as tf\n",
    "from tensorflow.keras.layers import (\n",
    "    Input, Embedding, Conv1D, MaxPooling1D, Bidirectional, LSTM, GRU, Dense, Dropout, BatchNormalization, GlobalMaxPooling1D\n",
    ")\n",
    "from tensorflow.keras.models import Model\n",
    "from tensorflow.keras.preprocessing.sequence import pad_sequences\n",
    "from tensorflow.keras.callbacks import EarlyStopping, ModelCheckpoint\n",
    "from sklearn.model_selection import train_test_split\n",
    "from sklearn.metrics import classification_report, confusion_matrix\n",
    "import numpy as np\n",
    "import os\n",
    "import pickle\n",
    "import re"
   ]
  },
  {
   "cell_type": "code",
   "execution_count": 5,
   "id": "8f24fd74",
   "metadata": {},
   "outputs": [],
   "source": [
    "# --- Configuration ---\n",
    "DATA_DIR = \"D:/M.Tech_all_project_code/M.Tech_all_project_code/dataset/training_small_dataset/small_dataset\"\n",
    "TRAIN_FILE = os.path.join(DATA_DIR, \"train.txt\")\n",
    "VAL_FILE = os.path.join(DATA_DIR, \"val.txt\")\n",
    "TEST_FILE = os.path.join(DATA_DIR, \"test.txt\")\n",
    "MODEL_SAVE_PATH = \"D:/model/crnn_phishing_model.keras\"\n",
    "TOKENIZER_SAVE_PATH = \"D:/model/tokenizer.pkl\"\n",
    "\n",
    "MAX_LEN = 200  # Maximum length of URL sequence\n",
    "EMBEDDING_DIM = 128\n",
    "VOCAB_SIZE = None # Will be determined from data\n",
    "BATCH_SIZE = 128\n",
    "EPOCHS = 10 # Adjust as needed, EarlyStopping will find the best"
   ]
  },
  {
   "cell_type": "code",
   "execution_count": 6,
   "id": "ebd0eaa6",
   "metadata": {},
   "outputs": [
    {
     "name": "stdout",
     "output_type": "stream",
     "text": [
      "--- Starting Data Loading and Preprocessing ---\n"
     ]
    }
   ],
   "source": [
    "# --- Data Loading and Preprocessing ---\n",
    "def load_data(file_path):\n",
    "    \"\"\"Loads URLs and labels from a text file.\"\"\"\n",
    "    urls = []\n",
    "    labels = []\n",
    "    print(f\"Loading data from: {file_path}\")\n",
    "    try:\n",
    "        with open(file_path, 'r', encoding='utf-8') as f:\n",
    "            for line in f:\n",
    "                parts = line.strip().split('\\t', 1)\n",
    "                if len(parts) == 2:\n",
    "                    label, url = parts\n",
    "                    # Basic cleaning: lowercase\n",
    "                    url = url.lower()\n",
    "                    # Replace multiple consecutive non-alphanumeric chars with a single one (optional)\n",
    "                    # url = re.sub(r'[^a-z0-9]+', '', url) # Example more aggressive cleaning\n",
    "                    labels.append(1 if label == \"phishing\" else 0)\n",
    "                    urls.append(url)\n",
    "                else:\n",
    "                    print(f\"Skipping malformed line: {line.strip()}\")\n",
    "    except FileNotFoundError:\n",
    "        print(f\"Error: File not found at {file_path}\")\n",
    "        return None, None\n",
    "    print(f\"Loaded {len(urls)} samples.\")\n",
    "    return urls, np.array(labels)\n",
    "\n",
    "def create_tokenizer(texts):\n",
    "    \"\"\"Creates and fits a character-level tokenizer.\"\"\"\n",
    "    # Use all unique characters\n",
    "    chars = set()\n",
    "    for text in texts:\n",
    "        chars.update(text)\n",
    "    \n",
    "    char_index = {char: i + 1 for i, char in enumerate(sorted(list(chars)))} # Reserve 0 for padding\n",
    "    index_char = {i: char for char, i in char_index.items()}\n",
    "    vocab_size = len(char_index) + 1 # Add 1 for padding\n",
    "    print(f\"Vocabulary size: {vocab_size}\")\n",
    "    return char_index, index_char, vocab_size\n",
    "\n",
    "def texts_to_sequences(texts, char_index):\n",
    "    \"\"\"Converts texts to sequences of indices.\"\"\"\n",
    "    return [[char_index.get(char, 0) for char in text] for text in texts] # Use 0 if char not in index (shouldn't happen with fit)\n",
    "\n",
    "print(\"--- Starting Data Loading and Preprocessing ---\")\n"
   ]
  },
  {
   "cell_type": "code",
   "execution_count": 7,
   "id": "efafecf6",
   "metadata": {},
   "outputs": [
    {
     "name": "stdout",
     "output_type": "stream",
     "text": [
      "Loading data from: D:/M.Tech_all_project_code/M.Tech_all_project_code/dataset/training_small_dataset/small_dataset\\train.txt\n",
      "Loaded 364199 samples.\n",
      "Loading data from: D:/M.Tech_all_project_code/M.Tech_all_project_code/dataset/training_small_dataset/small_dataset\\val.txt\n",
      "Loaded 104576 samples.\n",
      "Vocabulary size: 71\n",
      "Saving tokenizer to D:/model/tokenizer.pkl\n",
      "Padding sequences to max length: 200\n",
      "Training data shape: (364199, 200)\n",
      "Validation data shape: (104576, 200)\n"
     ]
    }
   ],
   "source": [
    "# Load data\n",
    "train_urls, train_labels = load_data(TRAIN_FILE)\n",
    "val_urls, val_labels = load_data(VAL_FILE)\n",
    "\n",
    "if train_urls is None or val_urls is None:\n",
    "    print(\"Failed to load data. Exiting.\")\n",
    "    exit()\n",
    "\n",
    "# Create and fit tokenizer on training data only\n",
    "char_index, index_char, VOCAB_SIZE = create_tokenizer(train_urls)\n",
    "\n",
    "# Save tokenizer\n",
    "print(f\"Saving tokenizer to {TOKENIZER_SAVE_PATH}\")\n",
    "with open(TOKENIZER_SAVE_PATH, 'wb') as handle:\n",
    "    pickle.dump({'char_index': char_index, 'index_char': index_char, 'vocab_size': VOCAB_SIZE, 'max_len': MAX_LEN}, handle, protocol=pickle.HIGHEST_PROTOCOL)\n",
    "\n",
    "# Convert texts to sequences\n",
    "train_sequences = texts_to_sequences(train_urls, char_index)\n",
    "val_sequences = texts_to_sequences(val_urls, char_index)\n",
    "\n",
    "# Pad sequences\n",
    "print(f\"Padding sequences to max length: {MAX_LEN}\")\n",
    "train_padded = pad_sequences(train_sequences, maxlen=MAX_LEN, padding='post', truncating='post')\n",
    "val_padded = pad_sequences(val_sequences, maxlen=MAX_LEN, padding='post', truncating='post')\n",
    "\n",
    "print(f\"Training data shape: {train_padded.shape}\")\n",
    "print(f\"Validation data shape: {val_padded.shape}\")"
   ]
  },
  {
   "cell_type": "code",
   "execution_count": 8,
   "id": "6959f696",
   "metadata": {},
   "outputs": [
    {
     "name": "stdout",
     "output_type": "stream",
     "text": [
      "--- Data Loading and Preprocessing Complete ---\n"
     ]
    }
   ],
   "source": [
    "# Create tf.data datasets for efficiency\n",
    "train_dataset = tf.data.Dataset.from_tensor_slices((train_padded, train_labels))\n",
    "train_dataset = train_dataset.shuffle(buffer_size=len(train_labels)).batch(BATCH_SIZE).prefetch(tf.data.AUTOTUNE)\n",
    "\n",
    "val_dataset = tf.data.Dataset.from_tensor_slices((val_padded, val_labels))\n",
    "val_dataset = val_dataset.batch(BATCH_SIZE).prefetch(tf.data.AUTOTUNE)\n",
    "\n",
    "print(\"--- Data Loading and Preprocessing Complete ---\")"
   ]
  },
  {
   "cell_type": "code",
   "execution_count": 9,
   "id": "59a0aaf3",
   "metadata": {},
   "outputs": [
    {
     "name": "stdout",
     "output_type": "stream",
     "text": [
      "--- Building CRNN Model ---\n",
      "--- Model Built Successfully ---\n",
      "Model: \"model\"\n",
      "_________________________________________________________________\n",
      " Layer (type)                Output Shape              Param #   \n",
      "=================================================================\n",
      " input_layer (InputLayer)    [(None, 200)]             0         \n",
      "                                                                 \n",
      " embedding_layer (Embedding)  (None, 200, 128)         9088      \n",
      "                                                                 \n",
      " conv1d_1 (Conv1D)           (None, 200, 128)          82048     \n",
      "                                                                 \n",
      " maxpool1d_1 (MaxPooling1D)  (None, 100, 128)          0         \n",
      "                                                                 \n",
      " conv1d_2 (Conv1D)           (None, 100, 128)          82048     \n",
      "                                                                 \n",
      " maxpool1d_2 (MaxPooling1D)  (None, 50, 128)           0         \n",
      "                                                                 \n",
      " bidirectional_gru (Bidirect  (None, 256)              198144    \n",
      " ional)                                                          \n",
      "                                                                 \n",
      " dropout_rnn (Dropout)       (None, 256)               0         \n",
      "                                                                 \n",
      " dense_1 (Dense)             (None, 64)                16448     \n",
      "                                                                 \n",
      " dropout_dense (Dropout)     (None, 64)                0         \n",
      "                                                                 \n",
      " output_layer (Dense)        (None, 1)                 65        \n",
      "                                                                 \n",
      "=================================================================\n",
      "Total params: 387,841\n",
      "Trainable params: 387,841\n",
      "Non-trainable params: 0\n",
      "_________________________________________________________________\n"
     ]
    }
   ],
   "source": [
    "# --- Model Definition ---\n",
    "def build_crnn_model(vocab_size, embedding_dim, max_len):\n",
    "    \"\"\"Builds the CRNN model.\"\"\"\n",
    "    print(\"--- Building CRNN Model ---\")\n",
    "    input_layer = Input(shape=(max_len,), name='input_layer')\n",
    "    \n",
    "    # Embedding Layer\n",
    "    embedding_layer = Embedding(input_dim=vocab_size, \n",
    "                                output_dim=embedding_dim, \n",
    "                                input_length=max_len, \n",
    "                                name='embedding_layer')(input_layer)\n",
    "    \n",
    "    # Convolutional Layers\n",
    "    conv1 = Conv1D(filters=128, kernel_size=5, activation='relu', padding='same', name='conv1d_1')(embedding_layer)\n",
    "    pool1 = MaxPooling1D(pool_size=2, name='maxpool1d_1')(conv1)\n",
    "\n",
    "\n",
    "    conv2 = Conv1D(filters=128, kernel_size=5, activation='relu', padding='same', name='conv1d_2')(pool1) # Using pool1 output\n",
    "    pool2 = MaxPooling1D(pool_size=2, name='maxpool1d_2')(conv2)\n",
    "\n",
    "\n",
    "    # Recurrent Layers (LSTM or GRU)\n",
    "    # Using GRU as they are often faster with similar performance to LSTM\n",
    "    rnn_layer = Bidirectional(GRU(128, return_sequences=False), name='bidirectional_gru')(pool2) # return_sequences=False if not followed by another RNN or Attention\n",
    "    # Or use LSTM: rnn_layer = Bidirectional(LSTM(128, return_sequences=False), name='bidirectional_lstm')(pool2)\n",
    "    \n",
    "    drop_rnn = Dropout(0.5, name='dropout_rnn')(rnn_layer) # Dropout after RNN\n",
    "\n",
    "    # Dense Layers\n",
    "    dense1 = Dense(64, activation='relu', name='dense_1')(drop_rnn)\n",
    "    drop_dense = Dropout(0.5, name='dropout_dense')(dense1)\n",
    "    output_layer = Dense(1, activation='sigmoid', name='output_layer')(drop_dense)\n",
    "    \n",
    "    model = Model(inputs=input_layer, outputs=output_layer)\n",
    "    \n",
    "    # Compile Model\n",
    "    optimizer = tf.keras.optimizers.Adam(learning_rate=0.001)\n",
    "    model.compile(optimizer=optimizer, \n",
    "                  loss='binary_crossentropy', \n",
    "                  metrics=['accuracy', \n",
    "                           tf.keras.metrics.Precision(name='precision'), \n",
    "                           tf.keras.metrics.Recall(name='recall'),\n",
    "                           tf.keras.metrics.AUC(name='auc')])\n",
    "    \n",
    "    print(\"--- Model Built Successfully ---\")\n",
    "    return model\n",
    "\n",
    "model = build_crnn_model(VOCAB_SIZE, EMBEDDING_DIM, MAX_LEN)\n",
    "model.summary()"
   ]
  },
  {
   "cell_type": "code",
   "execution_count": 10,
   "id": "6c6a7135",
   "metadata": {},
   "outputs": [
    {
     "name": "stdout",
     "output_type": "stream",
     "text": [
      "--- Starting Model Training ---\n",
      "Epoch 1/10\n",
      "2846/2846 [==============================] - ETA: 0s - loss: 0.1161 - accuracy: 0.9526 - precision: 0.9472 - recall: 0.9465 - auc: 0.9913\n",
      "Epoch 1: val_loss improved from inf to 0.07453, saving model to D:/model\\crnn_phishing_model.keras\n",
      "2846/2846 [==============================] - 99s 30ms/step - loss: 0.1161 - accuracy: 0.9526 - precision: 0.9472 - recall: 0.9465 - auc: 0.9913 - val_loss: 0.0745 - val_accuracy: 0.9712 - val_precision: 0.9578 - val_recall: 0.9786 - val_auc: 0.9967\n",
      "Epoch 2/10\n",
      "2845/2846 [============================>.] - ETA: 0s - loss: 0.0680 - accuracy: 0.9742 - precision: 0.9732 - recall: 0.9687 - auc: 0.9966\n",
      "Epoch 2: val_loss improved from 0.07453 to 0.06280, saving model to D:/model\\crnn_phishing_model.keras\n",
      "2846/2846 [==============================] - 82s 29ms/step - loss: 0.0680 - accuracy: 0.9742 - precision: 0.9732 - recall: 0.9687 - auc: 0.9966 - val_loss: 0.0628 - val_accuracy: 0.9753 - val_precision: 0.9827 - val_recall: 0.9615 - val_auc: 0.9971\n",
      "Epoch 3/10\n",
      "2846/2846 [==============================] - ETA: 0s - loss: 0.0562 - accuracy: 0.9787 - precision: 0.9790 - recall: 0.9731 - auc: 0.9976\n",
      "Epoch 3: val_loss improved from 0.06280 to 0.05538, saving model to D:/model\\crnn_phishing_model.keras\n",
      "2846/2846 [==============================] - 83s 29ms/step - loss: 0.0562 - accuracy: 0.9787 - precision: 0.9790 - recall: 0.9731 - auc: 0.9976 - val_loss: 0.0554 - val_accuracy: 0.9785 - val_precision: 0.9806 - val_recall: 0.9711 - val_auc: 0.9975\n",
      "Epoch 4/10\n",
      "2844/2846 [============================>.] - ETA: 0s - loss: 0.0476 - accuracy: 0.9823 - precision: 0.9829 - recall: 0.9774 - auc: 0.9981\n",
      "Epoch 4: val_loss did not improve from 0.05538\n",
      "2846/2846 [==============================] - 85s 30ms/step - loss: 0.0476 - accuracy: 0.9823 - precision: 0.9829 - recall: 0.9774 - auc: 0.9981 - val_loss: 0.0585 - val_accuracy: 0.9776 - val_precision: 0.9873 - val_recall: 0.9623 - val_auc: 0.9974\n",
      "Epoch 5/10\n",
      "2845/2846 [============================>.] - ETA: 0s - loss: 0.0405 - accuracy: 0.9847 - precision: 0.9850 - recall: 0.9806 - auc: 0.9986\n",
      "Epoch 5: val_loss did not improve from 0.05538\n",
      "2846/2846 [==============================] - 86s 30ms/step - loss: 0.0405 - accuracy: 0.9847 - precision: 0.9850 - recall: 0.9806 - auc: 0.9986 - val_loss: 0.0565 - val_accuracy: 0.9790 - val_precision: 0.9735 - val_recall: 0.9795 - val_auc: 0.9974\n",
      "Epoch 6/10\n",
      "2845/2846 [============================>.] - ETA: 0s - loss: 0.0349 - accuracy: 0.9871 - precision: 0.9875 - recall: 0.9834 - auc: 0.9988Restoring model weights from the end of the best epoch: 3.\n",
      "\n",
      "Epoch 6: val_loss did not improve from 0.05538\n",
      "2846/2846 [==============================] - 84s 29ms/step - loss: 0.0349 - accuracy: 0.9871 - precision: 0.9875 - recall: 0.9834 - auc: 0.9988 - val_loss: 0.0563 - val_accuracy: 0.9798 - val_precision: 0.9815 - val_recall: 0.9730 - val_auc: 0.9971\n",
      "Epoch 6: early stopping\n",
      "--- Model Training Complete ---\n",
      "Best model saved to: D:/model/crnn_phishing_model.keras\n"
     ]
    }
   ],
   "source": [
    "# --- Training ---\n",
    "print(\"--- Starting Model Training ---\")\n",
    "\n",
    "# Callbacks\n",
    "early_stopping = EarlyStopping(monitor='val_loss', # Monitor validation loss\n",
    "                               patience=3,        # Stop after 3 epochs of no improvement\n",
    "                               verbose=1,\n",
    "                               restore_best_weights=True) # Restore the best weights found\n",
    "\n",
    "model_checkpoint = ModelCheckpoint(MODEL_SAVE_PATH, \n",
    "                                 monitor='val_loss', # Save based on validation loss\n",
    "                                 save_best_only=True, \n",
    "                                 verbose=1)\n",
    "\n",
    "history = model.fit(train_dataset, \n",
    "                    epochs=EPOCHS, \n",
    "                    validation_data=val_dataset, \n",
    "                    callbacks=[early_stopping, model_checkpoint])\n",
    "\n",
    "print(\"--- Model Training Complete ---\")\n",
    "print(f\"Best model saved to: {MODEL_SAVE_PATH}\")"
   ]
  },
  {
   "cell_type": "code",
   "execution_count": 11,
   "id": "c5127874",
   "metadata": {},
   "outputs": [
    {
     "name": "stdout",
     "output_type": "stream",
     "text": [
      "817/817 [==============================] - 11s 13ms/step - loss: 0.0554 - accuracy: 0.9785 - precision: 0.9806 - recall: 0.9711 - auc: 0.9975\n",
      "Validation Loss: 0.0554\n",
      "Validation Accuracy: 0.9785\n",
      "Validation Precision: 0.9806\n",
      "Validation Recall: 0.9711\n",
      "Validation AUC: 0.9975\n"
     ]
    }
   ],
   "source": [
    "loss, accuracy, precision, recall, auc = model.evaluate(val_dataset, verbose=1)\n",
    "print(f\"Validation Loss: {loss:.4f}\")\n",
    "print(f\"Validation Accuracy: {accuracy:.4f}\")\n",
    "print(f\"Validation Precision: {precision:.4f}\")\n",
    "print(f\"Validation Recall: {recall:.4f}\")\n",
    "print(f\"Validation AUC: {auc:.4f}\")"
   ]
  },
  {
   "cell_type": "code",
   "execution_count": 14,
   "id": "581fe683",
   "metadata": {},
   "outputs": [],
   "source": [
    "import matplotlib.pyplot as plt\n",
    "import seaborn as sns\n",
    "from sklearn.metrics import confusion_matrix, classification_report"
   ]
  },
  {
   "cell_type": "code",
   "execution_count": 16,
   "id": "8a9226d6",
   "metadata": {},
   "outputs": [
    {
     "name": "stdout",
     "output_type": "stream",
     "text": [
      "817/817 [==============================] - 10s 11ms/step\n",
      "\n",
      "Validation Classification Report:\n",
      "              precision    recall  f1-score   support\n",
      "\n",
      "  Legitimate       0.98      0.98      0.98     57927\n",
      "    Phishing       0.98      0.97      0.98     46649\n",
      "\n",
      "    accuracy                           0.98    104576\n",
      "   macro avg       0.98      0.98      0.98    104576\n",
      "weighted avg       0.98      0.98      0.98    104576\n",
      "\n",
      "\n",
      "Validation Confusion Matrix:\n",
      "[[57030   897]\n",
      " [ 1348 45301]]\n"
     ]
    }
   ],
   "source": [
    "# Further analysis (optional)\n",
    "val_pred_probs = model.predict(val_dataset)\n",
    "val_pred_labels = (val_pred_probs > 0.5).astype(int)\n",
    "print(\"\\nValidation Classification Report:\")\n",
    "print(classification_report(val_labels, val_pred_labels, target_names=['Legitimate', 'Phishing']))\n",
    "print(\"\\nValidation Confusion Matrix:\")\n",
    "print(confusion_matrix(val_labels, val_pred_labels))"
   ]
  },
  {
   "cell_type": "code",
   "execution_count": 17,
   "id": "39e2e868",
   "metadata": {},
   "outputs": [
    {
     "data": {
      "image/png": "[encoded data removed]",
      "text/plain": [
       "<Figure size 600x500 with 2 Axes>"
      ]
     },
     "metadata": {},
     "output_type": "display_data"
    }
   ],
   "source": [
    "cm = confusion_matrix(val_labels, val_pred_labels)\n",
    "\n",
    "plt.figure(figsize=(6,5))\n",
    "sns.heatmap(cm, annot=True, fmt='d', cmap='Blues', xticklabels=['Legitimate', 'Phishing'], yticklabels=['Legitimate', 'Phishing'])\n",
    "plt.xlabel('Predicted Labels')\n",
    "plt.ylabel('True Labels')\n",
    "plt.title('Validation Confusion Matrix')\n",
    "plt.show()"
   ]
  },
  {
   "cell_type": "code",
   "execution_count": 20,
   "id": "f364bcb4",
   "metadata": {},
   "outputs": [],
   "source": [
    "import tensorflow as tf\n",
    "\n",
    "# Load the Keras SavedModel\n",
    "model = tf.keras.models.load_model(\"D:/model/crnn_phishing_model.keras\")"
   ]
  },
  {
   "cell_type": "code",
   "execution_count": 21,
   "id": "025342ee",
   "metadata": {},
   "outputs": [
    {
     "name": "stderr",
     "output_type": "stream",
     "text": [
      "WARNING:absl:Found untraced functions such as _jit_compiled_convolution_op, _jit_compiled_convolution_op, gru_cell_7_layer_call_fn, gru_cell_7_layer_call_and_return_conditional_losses, gru_cell_8_layer_call_fn while saving (showing 5 of 6). These functions will not be directly callable after loading.\n"
     ]
    },
    {
     "name": "stdout",
     "output_type": "stream",
     "text": [
      "INFO:tensorflow:Assets written to: C:\\Users\\manis\\AppData\\Local\\Temp\\tmpg5_j5abd\\assets\n"
     ]
    },
    {
     "name": "stderr",
     "output_type": "stream",
     "text": [
      "INFO:tensorflow:Assets written to: C:\\Users\\manis\\AppData\\Local\\Temp\\tmpg5_j5abd\\assets\n"
     ]
    },
    {
     "name": "stdout",
     "output_type": "stream",
     "text": [
      "TFLite model with SELECT_TF_OPS saved.\n"
     ]
    }
   ],
   "source": [
    "# Create converter\n",
    "converter = tf.lite.TFLiteConverter.from_keras_model(model)\n",
    "\n",
    "# Use Select TF Ops to allow unsupported operations\n",
    "converter.target_spec.supported_ops = [\n",
    "    tf.lite.OpsSet.TFLITE_BUILTINS,    # Default TFLite ops\n",
    "    tf.lite.OpsSet.SELECT_TF_OPS       # Enable TF ops not in TFLite\n",
    "]\n",
    "\n",
    "# Disable experimental lowering of tensor list ops\n",
    "converter._experimental_lower_tensor_list_ops = False\n",
    "\n",
    "# Optional: optimize for size/speed\n",
    "converter.optimizations = [tf.lite.Optimize.DEFAULT]\n",
    "\n",
    "# Convert\n",
    "tflite_model = converter.convert()\n",
    "\n",
    "# Save TFLite model\n",
    "with open(\"model_select_tf_ops.tflite\", \"wb\") as f:\n",
    "    f.write(tflite_model)\n",
    "\n",
    "print(\"TFLite model with SELECT_TF_OPS saved.\")\n"
   ]
  }
 ],
 "metadata": {
  "kernelspec": {
   "display_name": "tensorai",
   "language": "python",
   "name": "python3"
  },
  "language_info": {
   "codemirror_mode": {
    "name": "ipython",
    "version": 3
   },
   "file_extension": ".py",
   "mimetype": "text/x-python",
   "name": "python",
   "nbconvert_exporter": "python",
   "pygments_lexer": "ipython3",
   "version": "3.10.15"
  }
 },
 "nbformat": 4,
 "nbformat_minor": 5
}
