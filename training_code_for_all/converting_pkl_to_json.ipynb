{
 "cells": [
  {
   "cell_type": "code",
   "execution_count": 4,
   "id": "4f62248e",
   "metadata": {},
   "outputs": [
    {
     "name": "stdout",
     "output_type": "stream",
     "text": [
      "✅ Dictionary tokenizer saved successfully as tokenizer.json\n"
     ]
    }
   ],
   "source": [
    "import pickle\n",
    "import json\n",
    "\n",
    "# Load the tokenizer (which is a dict)\n",
    "with open(\"D:/model/tokenizer_big.pkl\", \"rb\") as f:\n",
    "    tokenizer_dict = pickle.load(f)\n",
    "\n",
    "# Save as JSON\n",
    "with open(\"tokenizer_big.json\", \"w\") as f:\n",
    "    json.dump(tokenizer_dict, f)\n",
    "\n",
    "print(\"✅ Dictionary tokenizer saved successfully as tokenizer.json\")"
   ]
  }
 ],
 "metadata": {
  "kernelspec": {
   "display_name": "tensorai",
   "language": "python",
   "name": "python3"
  },
  "language_info": {
   "codemirror_mode": {
    "name": "ipython",
    "version": 3
   },
   "file_extension": ".py",
   "mimetype": "text/x-python",
   "name": "python",
   "nbconvert_exporter": "python",
   "pygments_lexer": "ipython3",
   "version": "3.10.15"
  }
 },
 "nbformat": 4,
 "nbformat_minor": 5
}
