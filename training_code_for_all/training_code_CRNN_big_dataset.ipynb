{
 "cells": [
  {
   "cell_type": "code",
   "execution_count": 2,
   "metadata": {
    "_cell_guid": "b1076dfc-b9ad-4769-8c92-a6c4dae69d19",
    "_uuid": "8f2839f25d086af736a60e9eeb907d3b93b6e0e5",
    "execution": {
     "iopub.execute_input": "2025-06-11T02:20:58.425754Z",
     "iopub.status.busy": "2025-06-11T02:20:58.425509Z",
     "iopub.status.idle": "2025-06-11T02:21:11.969846Z",
     "shell.execute_reply": "2025-06-11T02:21:11.969265Z",
     "shell.execute_reply.started": "2025-06-11T02:20:58.425734Z"
    },
    "trusted": true
   },
   "outputs": [
    {
     "name": "stderr",
     "output_type": "stream",
     "text": [
      "c:\\Users\\manis\\miniconda3\\envs\\tensorai\\lib\\site-packages\\h5py\\__init__.py:36: UserWarning: h5py is running against HDF5 1.14.6 when it was built against 1.14.5, this may cause problems\n",
      "  _warn((\"h5py is running against HDF5 {0} when it was built against {1}, \"\n"
     ]
    }
   ],
   "source": [
    "import tensorflow as tf\n",
    "from tensorflow.keras.layers import (\n",
    "    Input, Embedding, Conv1D, MaxPooling1D, Bidirectional, LSTM, GRU, Dense, Dropout, BatchNormalization, GlobalMaxPooling1D\n",
    ")\n",
    "from tensorflow.keras.models import Model\n",
    "from tensorflow.keras.preprocessing.sequence import pad_sequences\n",
    "from tensorflow.keras.callbacks import EarlyStopping, ModelCheckpoint\n",
    "from sklearn.model_selection import train_test_split\n",
    "from sklearn.metrics import classification_report, confusion_matrix\n",
    "import numpy as np\n",
    "import os\n",
    "import pickle\n",
    "import re"
   ]
  },
  {
   "cell_type": "code",
   "execution_count": 3,
   "metadata": {
    "execution": {
     "iopub.execute_input": "2025-06-11T02:23:48.339202Z",
     "iopub.status.busy": "2025-06-11T02:23:48.338635Z",
     "iopub.status.idle": "2025-06-11T02:23:48.343532Z",
     "shell.execute_reply": "2025-06-11T02:23:48.342748Z",
     "shell.execute_reply.started": "2025-06-11T02:23:48.339181Z"
    },
    "trusted": true
   },
   "outputs": [],
   "source": [
    "# --- Configuration ---\n",
    "DATA_DIR = \"D:/M.Tech_all_project_code/M.Tech_all_project_code/dataset/training_big_dataset/big_dataset\"\n",
    "TRAIN_FILE = os.path.join(DATA_DIR, \"train.txt\")\n",
    "VAL_FILE = os.path.join(DATA_DIR, \"val.txt\")\n",
    "TEST_FILE = os.path.join(DATA_DIR, \"test.txt\")\n",
    "MODEL_SAVE_PATH = \"D:/model/crnn_phishing_model_big.keras\"\n",
    "TOKENIZER_SAVE_PATH = \"D:/model/tokenizer_big.pkl\"\n",
    "\n",
    "MAX_LEN = 200  # Maximum length of URL sequence\n",
    "EMBEDDING_DIM = 128\n",
    "VOCAB_SIZE = None # Will be determined from data\n",
    "BATCH_SIZE = 128\n",
    "EPOCHS = 10 # Adjust as needed, EarlyStopping will find the best"
   ]
  },
  {
   "cell_type": "code",
   "execution_count": 4,
   "metadata": {
    "execution": {
     "iopub.execute_input": "2025-06-11T02:24:12.040433Z",
     "iopub.status.busy": "2025-06-11T02:24:12.040150Z",
     "iopub.status.idle": "2025-06-11T02:24:12.046205Z",
     "shell.execute_reply": "2025-06-11T02:24:12.045436Z",
     "shell.execute_reply.started": "2025-06-11T02:24:12.040410Z"
    },
    "trusted": true
   },
   "outputs": [],
   "source": [
    "def load_data(file_path):\n",
    "    \"\"\"Loads URLs and labels from a text file.\"\"\"\n",
    "    urls = []\n",
    "    labels = []\n",
    "    print(f\"Loading data from: {file_path}\")\n",
    "    try:\n",
    "        with open(file_path, 'r', encoding='utf-8') as f:\n",
    "            for line in f:\n",
    "                parts = line.strip().split('\\t', 1)\n",
    "                if len(parts) == 2:\n",
    "                    label, url = parts\n",
    "                    # Basic cleaning: lowercase\n",
    "                    url = url.lower()\n",
    "                    # Replace multiple consecutive non-alphanumeric chars with a single one (optional)\n",
    "                    # url = re.sub(r'[^a-z0-9]+', '', url) # Example more aggressive cleaning\n",
    "                    labels.append(1 if label == \"phishing\" else 0)\n",
    "                    urls.append(url)\n",
    "                else:\n",
    "                    print(f\"Skipping malformed line: {line.strip()}\")\n",
    "    except FileNotFoundError:\n",
    "        print(f\"Error: File not found at {file_path}\")\n",
    "        return None, None\n",
    "    print(f\"Loaded {len(urls)} samples.\")\n",
    "    return urls, np.array(labels)\n"
   ]
  },
  {
   "cell_type": "code",
   "execution_count": 5,
   "metadata": {
    "execution": {
     "iopub.execute_input": "2025-06-11T02:24:27.073875Z",
     "iopub.status.busy": "2025-06-11T02:24:27.073575Z",
     "iopub.status.idle": "2025-06-11T02:24:27.078628Z",
     "shell.execute_reply": "2025-06-11T02:24:27.077838Z",
     "shell.execute_reply.started": "2025-06-11T02:24:27.073853Z"
    },
    "trusted": true
   },
   "outputs": [],
   "source": [
    "def create_tokenizer(texts):\n",
    "    \"\"\"Creates and fits a character-level tokenizer.\"\"\"\n",
    "    # Use all unique characters\n",
    "    chars = set()\n",
    "    for text in texts:\n",
    "        chars.update(text)\n",
    "    \n",
    "    char_index = {char: i + 1 for i, char in enumerate(sorted(list(chars)))} # Reserve 0 for padding\n",
    "    index_char = {i: char for char, i in char_index.items()}\n",
    "    vocab_size = len(char_index) + 1 # Add 1 for padding\n",
    "    print(f\"Vocabulary size: {vocab_size}\")\n",
    "    return char_index, index_char, vocab_size"
   ]
  },
  {
   "cell_type": "code",
   "execution_count": 6,
   "metadata": {
    "execution": {
     "iopub.execute_input": "2025-06-11T02:24:44.126799Z",
     "iopub.status.busy": "2025-06-11T02:24:44.126271Z",
     "iopub.status.idle": "2025-06-11T02:24:44.130476Z",
     "shell.execute_reply": "2025-06-11T02:24:44.129789Z",
     "shell.execute_reply.started": "2025-06-11T02:24:44.126777Z"
    },
    "trusted": true
   },
   "outputs": [],
   "source": [
    "def texts_to_sequences(texts, char_index):\n",
    "    \"\"\"Converts texts to sequences of indices.\"\"\"\n",
    "    return [[char_index.get(char, 0) for char in text] for text in texts] # Use 0 if char not in index (shouldn't happen with fit)\n"
   ]
  },
  {
   "cell_type": "code",
   "execution_count": 7,
   "metadata": {
    "execution": {
     "iopub.execute_input": "2025-06-11T02:25:07.966780Z",
     "iopub.status.busy": "2025-06-11T02:25:07.966497Z",
     "iopub.status.idle": "2025-06-11T02:25:17.296456Z",
     "shell.execute_reply": "2025-06-11T02:25:17.295823Z",
     "shell.execute_reply.started": "2025-06-11T02:25:07.966761Z"
    },
    "trusted": true
   },
   "outputs": [
    {
     "name": "stdout",
     "output_type": "stream",
     "text": [
      "--- Starting Data Loading and Preprocessing ---\n",
      "Loading data from: D:/M.Tech_all_project_code/M.Tech_all_project_code/dataset/training_big_dataset/big_dataset\\train.txt\n",
      "Loaded 3641986 samples.\n",
      "Loading data from: D:/M.Tech_all_project_code/M.Tech_all_project_code/dataset/training_big_dataset/big_dataset\\val.txt\n",
      "Loaded 1045775 samples.\n",
      "Vocabulary size: 71\n"
     ]
    }
   ],
   "source": [
    "print(\"--- Starting Data Loading and Preprocessing ---\")\n",
    "# Load data\n",
    "train_urls, train_labels = load_data(TRAIN_FILE)\n",
    "val_urls, val_labels = load_data(VAL_FILE)\n",
    "\n",
    "if train_urls is None or val_urls is None:\n",
    "    print(\"Failed to load data. Exiting.\")\n",
    "    exit()\n",
    "\n",
    "# Create and fit tokenizer on training data only\n",
    "char_index, index_char, VOCAB_SIZE = create_tokenizer(train_urls)"
   ]
  },
  {
   "cell_type": "code",
   "execution_count": 8,
   "metadata": {
    "execution": {
     "iopub.execute_input": "2025-06-11T02:25:30.855443Z",
     "iopub.status.busy": "2025-06-11T02:25:30.855179Z",
     "iopub.status.idle": "2025-06-11T02:25:30.860455Z",
     "shell.execute_reply": "2025-06-11T02:25:30.859900Z",
     "shell.execute_reply.started": "2025-06-11T02:25:30.855422Z"
    },
    "trusted": true
   },
   "outputs": [
    {
     "name": "stdout",
     "output_type": "stream",
     "text": [
      "Saving tokenizer to D:/model/tokenizer_big.pkl\n"
     ]
    }
   ],
   "source": [
    "print(f\"Saving tokenizer to {TOKENIZER_SAVE_PATH}\")\n",
    "with open(TOKENIZER_SAVE_PATH, 'wb') as handle:\n",
    "    pickle.dump({'char_index': char_index, 'index_char': index_char, 'vocab_size': VOCAB_SIZE, 'max_len': MAX_LEN}, handle, protocol=pickle.HIGHEST_PROTOCOL)\n"
   ]
  },
  {
   "cell_type": "code",
   "execution_count": 9,
   "metadata": {
    "execution": {
     "iopub.execute_input": "2025-06-11T02:25:49.872089Z",
     "iopub.status.busy": "2025-06-11T02:25:49.871817Z",
     "iopub.status.idle": "2025-06-11T02:26:20.477197Z",
     "shell.execute_reply": "2025-06-11T02:26:20.476606Z",
     "shell.execute_reply.started": "2025-06-11T02:25:49.872070Z"
    },
    "trusted": true
   },
   "outputs": [],
   "source": [
    "# Convert texts to sequences\n",
    "train_sequences = texts_to_sequences(train_urls, char_index)\n",
    "val_sequences = texts_to_sequences(val_urls, char_index)\n"
   ]
  },
  {
   "cell_type": "code",
   "execution_count": 10,
   "metadata": {
    "execution": {
     "iopub.execute_input": "2025-06-11T02:26:37.610275Z",
     "iopub.status.busy": "2025-06-11T02:26:37.610014Z",
     "iopub.status.idle": "2025-06-11T02:27:01.775057Z",
     "shell.execute_reply": "2025-06-11T02:27:01.774416Z",
     "shell.execute_reply.started": "2025-06-11T02:26:37.610255Z"
    },
    "trusted": true
   },
   "outputs": [
    {
     "name": "stdout",
     "output_type": "stream",
     "text": [
      "Padding sequences to max length: 200\n",
      "Training data shape: (3641986, 200)\n",
      "Validation data shape: (1045775, 200)\n"
     ]
    }
   ],
   "source": [
    "# Pad sequences\n",
    "print(f\"Padding sequences to max length: {MAX_LEN}\")\n",
    "train_padded = pad_sequences(train_sequences, maxlen=MAX_LEN, padding='post', truncating='post')\n",
    "val_padded = pad_sequences(val_sequences, maxlen=MAX_LEN, padding='post', truncating='post')\n",
    "\n",
    "print(f\"Training data shape: {train_padded.shape}\")\n",
    "print(f\"Validation data shape: {val_padded.shape}\")"
   ]
  },
  {
   "cell_type": "code",
   "execution_count": 11,
   "metadata": {
    "execution": {
     "iopub.execute_input": "2025-06-11T02:27:11.902256Z",
     "iopub.status.busy": "2025-06-11T02:27:11.901992Z",
     "iopub.status.idle": "2025-06-11T02:27:17.553591Z",
     "shell.execute_reply": "2025-06-11T02:27:17.552885Z",
     "shell.execute_reply.started": "2025-06-11T02:27:11.902237Z"
    },
    "trusted": true
   },
   "outputs": [
    {
     "name": "stdout",
     "output_type": "stream",
     "text": [
      "--- Data Loading and Preprocessing Complete ---\n"
     ]
    }
   ],
   "source": [
    "# Create tf.data datasets for efficiency\n",
    "train_dataset = tf.data.Dataset.from_tensor_slices((train_padded, train_labels))\n",
    "train_dataset = train_dataset.shuffle(buffer_size=len(train_labels)).batch(BATCH_SIZE).prefetch(tf.data.AUTOTUNE)\n",
    "\n",
    "val_dataset = tf.data.Dataset.from_tensor_slices((val_padded, val_labels))\n",
    "val_dataset = val_dataset.batch(BATCH_SIZE).prefetch(tf.data.AUTOTUNE)\n",
    "\n",
    "print(\"--- Data Loading and Preprocessing Complete ---\")"
   ]
  },
  {
   "cell_type": "code",
   "execution_count": 12,
   "metadata": {
    "execution": {
     "iopub.execute_input": "2025-06-11T02:27:28.121836Z",
     "iopub.status.busy": "2025-06-11T02:27:28.121232Z",
     "iopub.status.idle": "2025-06-11T02:27:29.506847Z",
     "shell.execute_reply": "2025-06-11T02:27:29.506258Z",
     "shell.execute_reply.started": "2025-06-11T02:27:28.121808Z"
    },
    "trusted": true
   },
   "outputs": [
    {
     "name": "stdout",
     "output_type": "stream",
     "text": [
      "--- Building CRNN Model ---\n",
      "--- Model Built Successfully ---\n",
      "Model: \"model\"\n",
      "_________________________________________________________________\n",
      " Layer (type)                Output Shape              Param #   \n",
      "=================================================================\n",
      " input_layer (InputLayer)    [(None, 200)]             0         \n",
      "                                                                 \n",
      " embedding_layer (Embedding)  (None, 200, 128)         9088      \n",
      "                                                                 \n",
      " conv1d_1 (Conv1D)           (None, 200, 128)          82048     \n",
      "                                                                 \n",
      " maxpool1d_1 (MaxPooling1D)  (None, 100, 128)          0         \n",
      "                                                                 \n",
      " conv1d_2 (Conv1D)           (None, 100, 128)          82048     \n",
      "                                                                 \n",
      " maxpool1d_2 (MaxPooling1D)  (None, 50, 128)           0         \n",
      "                                                                 \n",
      " bidirectional_gru (Bidirect  (None, 256)              198144    \n",
      " ional)                                                          \n",
      "                                                                 \n",
      " dropout_rnn (Dropout)       (None, 256)               0         \n",
      "                                                                 \n",
      " dense_1 (Dense)             (None, 64)                16448     \n",
      "                                                                 \n",
      " dropout_dense (Dropout)     (None, 64)                0         \n",
      "                                                                 \n",
      " output_layer (Dense)        (None, 1)                 65        \n",
      "                                                                 \n",
      "=================================================================\n",
      "Total params: 387,841\n",
      "Trainable params: 387,841\n",
      "Non-trainable params: 0\n",
      "_________________________________________________________________\n"
     ]
    }
   ],
   "source": [
    "# --- Model Definition ---\n",
    "def build_crnn_model(vocab_size, embedding_dim, max_len):\n",
    "    \"\"\"Builds the CRNN model.\"\"\"\n",
    "    print(\"--- Building CRNN Model ---\")\n",
    "    input_layer = Input(shape=(max_len,), name='input_layer')\n",
    "    \n",
    "    # Embedding Layer\n",
    "    embedding_layer = Embedding(input_dim=vocab_size, \n",
    "                                output_dim=embedding_dim, \n",
    "                                input_length=max_len, \n",
    "                                name='embedding_layer')(input_layer)\n",
    "    \n",
    "    # Convolutional Layers\n",
    "    conv1 = Conv1D(filters=128, kernel_size=5, activation='relu', padding='same', name='conv1d_1')(embedding_layer)\n",
    "    pool1 = MaxPooling1D(pool_size=2, name='maxpool1d_1')(conv1)\n",
    "    #bn1 = BatchNormalization(name='batchnorm_1')(pool1) # Optional BN\n",
    "    #drop1 = Dropout(0.3, name='dropout_conv')(bn1) # Optional Dropout\n",
    "\n",
    "    conv2 = Conv1D(filters=128, kernel_size=5, activation='relu', padding='same', name='conv1d_2')(pool1) # Using pool1 output\n",
    "    pool2 = MaxPooling1D(pool_size=2, name='maxpool1d_2')(conv2)\n",
    "    #bn2 = BatchNormalization(name='batchnorm_2')(pool2) # Optional BN\n",
    "    #drop2 = Dropout(0.3, name='dropout_conv_2')(bn2) # Optional Dropout\n",
    "\n",
    "    # Recurrent Layers (LSTM or GRU)\n",
    "    # Using GRU as they are often faster with similar performance to LSTM\n",
    "    rnn_layer = Bidirectional(GRU(128, return_sequences=False), name='bidirectional_gru')(pool2) # return_sequences=False if not followed by another RNN or Attention\n",
    "    # Or use LSTM: rnn_layer = Bidirectional(LSTM(128, return_sequences=False), name='bidirectional_lstm')(pool2)\n",
    "    \n",
    "    drop_rnn = Dropout(0.5, name='dropout_rnn')(rnn_layer) # Dropout after RNN\n",
    "\n",
    "    # Dense Layers\n",
    "    dense1 = Dense(64, activation='relu', name='dense_1')(drop_rnn)\n",
    "    drop_dense = Dropout(0.5, name='dropout_dense')(dense1)\n",
    "    output_layer = Dense(1, activation='sigmoid', name='output_layer')(drop_dense)\n",
    "    \n",
    "    model = Model(inputs=input_layer, outputs=output_layer)\n",
    "    \n",
    "    # Compile Model\n",
    "    optimizer = tf.keras.optimizers.Adam(learning_rate=0.001)\n",
    "    model.compile(optimizer=optimizer, \n",
    "                  loss='binary_crossentropy', \n",
    "                  metrics=['accuracy', \n",
    "                           tf.keras.metrics.Precision(name='precision'), \n",
    "                           tf.keras.metrics.Recall(name='recall'),\n",
    "                           tf.keras.metrics.AUC(name='auc')])\n",
    "    \n",
    "    print(\"--- Model Built Successfully ---\")\n",
    "    return model\n",
    "\n",
    "model = build_crnn_model(VOCAB_SIZE, EMBEDDING_DIM, MAX_LEN)\n",
    "model.summary()"
   ]
  },
  {
   "cell_type": "code",
   "execution_count": 13,
   "metadata": {
    "execution": {
     "iopub.execute_input": "2025-06-11T02:27:52.621764Z",
     "iopub.status.busy": "2025-06-11T02:27:52.621282Z",
     "iopub.status.idle": "2025-06-11T03:30:41.271244Z",
     "shell.execute_reply": "2025-06-11T03:30:41.270672Z",
     "shell.execute_reply.started": "2025-06-11T02:27:52.621742Z"
    },
    "trusted": true
   },
   "outputs": [
    {
     "name": "stdout",
     "output_type": "stream",
     "text": [
      "--- Starting Model Training ---\n",
      "Epoch 1/10\n",
      "28454/28454 [==============================] - ETA: 0s - loss: 0.0603 - accuracy: 0.9772 - precision: 0.9769 - recall: 0.9718 - auc: 0.9972\n",
      "Epoch 1: val_loss improved from inf to 0.04264, saving model to D:/model\\crnn_phishing_model_big.keras\n",
      "28454/28454 [==============================] - 924s 32ms/step - loss: 0.0603 - accuracy: 0.9772 - precision: 0.9769 - recall: 0.9718 - auc: 0.9972 - val_loss: 0.0426 - val_accuracy: 0.9838 - val_precision: 0.9830 - val_recall: 0.9807 - val_auc: 0.9985\n",
      "Epoch 2/10\n",
      "28453/28454 [============================>.] - ETA: 0s - loss: 0.0410 - accuracy: 0.9851 - precision: 0.9865 - recall: 0.9799 - auc: 0.9985\n",
      "Epoch 2: val_loss improved from 0.04264 to 0.03796, saving model to D:/model\\crnn_phishing_model_big.keras\n",
      "28454/28454 [==============================] - 897s 31ms/step - loss: 0.0410 - accuracy: 0.9851 - precision: 0.9865 - recall: 0.9799 - auc: 0.9985 - val_loss: 0.0380 - val_accuracy: 0.9857 - val_precision: 0.9891 - val_recall: 0.9786 - val_auc: 0.9987\n",
      "Epoch 3/10\n",
      "28453/28454 [============================>.] - ETA: 0s - loss: 0.0376 - accuracy: 0.9864 - precision: 0.9882 - recall: 0.9813 - auc: 0.9986\n",
      "Epoch 3: val_loss did not improve from 0.03796\n",
      "28454/28454 [==============================] - 940s 32ms/step - loss: 0.0376 - accuracy: 0.9864 - precision: 0.9882 - recall: 0.9813 - auc: 0.9986 - val_loss: 0.0498 - val_accuracy: 0.9813 - val_precision: 0.9907 - val_recall: 0.9671 - val_auc: 0.9979\n",
      "Epoch 4/10\n",
      "28454/28454 [==============================] - ETA: 0s - loss: 0.0370 - accuracy: 0.9867 - precision: 0.9884 - recall: 0.9816 - auc: 0.9987\n",
      "Epoch 4: val_loss did not improve from 0.03796\n",
      "28454/28454 [==============================] - 871s 30ms/step - loss: 0.0370 - accuracy: 0.9867 - precision: 0.9884 - recall: 0.9816 - auc: 0.9987 - val_loss: 0.0389 - val_accuracy: 0.9858 - val_precision: 0.9866 - val_recall: 0.9814 - val_auc: 0.9984\n",
      "Epoch 5/10\n",
      "28454/28454 [==============================] - ETA: 0s - loss: 0.0380 - accuracy: 0.9863 - precision: 0.9882 - recall: 0.9809 - auc: 0.9986Restoring model weights from the end of the best epoch: 2.\n",
      "\n",
      "Epoch 5: val_loss did not improve from 0.03796\n",
      "28454/28454 [==============================] - 943s 32ms/step - loss: 0.0380 - accuracy: 0.9863 - precision: 0.9882 - recall: 0.9809 - auc: 0.9986 - val_loss: 0.0399 - val_accuracy: 0.9855 - val_precision: 0.9859 - val_recall: 0.9816 - val_auc: 0.9987\n",
      "Epoch 5: early stopping\n",
      "--- Model Training Complete ---\n",
      "Best model saved to: D:/model/crnn_phishing_model_big.keras\n"
     ]
    }
   ],
   "source": [
    "# --- Training ---\n",
    "print(\"--- Starting Model Training ---\")\n",
    "\n",
    "# Callbacks\n",
    "early_stopping = EarlyStopping(monitor='val_loss', # Monitor validation loss\n",
    "                               patience=3,        # Stop after 3 epochs of no improvement\n",
    "                               verbose=1,\n",
    "                               restore_best_weights=True) # Restore the best weights found\n",
    "\n",
    "model_checkpoint = ModelCheckpoint(MODEL_SAVE_PATH, \n",
    "                                 monitor='val_loss', # Save based on validation loss\n",
    "                                 save_best_only=True, \n",
    "                                 verbose=1)\n",
    "\n",
    "history = model.fit(train_dataset, \n",
    "                    epochs=EPOCHS, \n",
    "                    validation_data=val_dataset, \n",
    "                    callbacks=[early_stopping, model_checkpoint])\n",
    "\n",
    "print(\"--- Model Training Complete ---\")\n",
    "print(f\"Best model saved to: {MODEL_SAVE_PATH}\")"
   ]
  },
  {
   "cell_type": "code",
   "execution_count": 14,
   "metadata": {
    "execution": {
     "iopub.execute_input": "2025-06-11T03:41:47.892271Z",
     "iopub.status.busy": "2025-06-11T03:41:47.891973Z",
     "iopub.status.idle": "2025-06-11T03:42:51.669239Z",
     "shell.execute_reply": "2025-06-11T03:42:51.668701Z",
     "shell.execute_reply.started": "2025-06-11T03:41:47.892250Z"
    },
    "trusted": true
   },
   "outputs": [
    {
     "name": "stdout",
     "output_type": "stream",
     "text": [
      "8171/8171 [==============================] - 101s 12ms/step - loss: 0.0380 - accuracy: 0.9857 - precision: 0.9891 - recall: 0.9786 - auc: 0.9987\n",
      "Validation Loss: 0.0380\n",
      "Validation Accuracy: 0.9857\n",
      "Validation Precision: 0.9891\n",
      "Validation Recall: 0.9786\n",
      "Validation AUC: 0.9987\n"
     ]
    }
   ],
   "source": [
    "loss, accuracy, precision, recall, auc = model.evaluate(val_dataset, verbose=1)\n",
    "print(f\"Validation Loss: {loss:.4f}\")\n",
    "print(f\"Validation Accuracy: {accuracy:.4f}\")\n",
    "print(f\"Validation Precision: {precision:.4f}\")\n",
    "print(f\"Validation Recall: {recall:.4f}\")\n",
    "print(f\"Validation AUC: {auc:.4f}\")\n"
   ]
  },
  {
   "cell_type": "code",
   "execution_count": 15,
   "metadata": {},
   "outputs": [],
   "source": [
    "import matplotlib.pyplot as plt\n",
    "import seaborn as sns\n",
    "from sklearn.metrics import confusion_matrix, classification_report"
   ]
  },
  {
   "cell_type": "code",
   "execution_count": 16,
   "metadata": {},
   "outputs": [
    {
     "name": "stdout",
     "output_type": "stream",
     "text": [
      "8171/8171 [==============================] - 81s 10ms/step\n",
      "\n",
      "Validation Classification Report:\n",
      "              precision    recall  f1-score   support\n",
      "\n",
      "  Legitimate       0.98      0.99      0.99    579271\n",
      "    Phishing       0.99      0.98      0.98    466504\n",
      "\n",
      "    accuracy                           0.99   1045775\n",
      "   macro avg       0.99      0.98      0.99   1045775\n",
      "weighted avg       0.99      0.99      0.99   1045775\n",
      "\n",
      "\n",
      "Validation Confusion Matrix:\n",
      "[[574256   5015]\n",
      " [  9991 456513]]\n"
     ]
    }
   ],
   "source": [
    "# Further analysis (optional)\n",
    "val_pred_probs = model.predict(val_dataset)\n",
    "val_pred_labels = (val_pred_probs > 0.5).astype(int)\n",
    "print(\"\\nValidation Classification Report:\")\n",
    "print(classification_report(val_labels, val_pred_labels, target_names=['Legitimate', 'Phishing']))\n",
    "print(\"\\nValidation Confusion Matrix:\")\n",
    "print(confusion_matrix(val_labels, val_pred_labels))"
   ]
  },
  {
   "cell_type": "code",
   "execution_count": 17,
   "metadata": {},
   "outputs": [
    {
     "data": {
      "image/png": "[encoded data removed]",
      "text/plain": [
       "<Figure size 600x500 with 2 Axes>"
      ]
     },
     "metadata": {},
     "output_type": "display_data"
    }
   ],
   "source": [
    "cm = confusion_matrix(val_labels, val_pred_labels)\n",
    "\n",
    "plt.figure(figsize=(6,5))\n",
    "sns.heatmap(cm, annot=True, fmt='d', cmap='Blues', xticklabels=['Legitimate', 'Phishing'], yticklabels=['Legitimate', 'Phishing'])\n",
    "plt.xlabel('Predicted Labels')\n",
    "plt.ylabel('True Labels')\n",
    "plt.title('Validation Confusion Matrix')\n",
    "plt.show()"
   ]
  },
  {
   "cell_type": "code",
   "execution_count": 18,
   "metadata": {},
   "outputs": [],
   "source": [
    "import tensorflow as tf\n",
    "\n",
    "# Load the Keras SavedModel\n",
    "model = tf.keras.models.load_model(\"D:/model/crnn_phishing_model_big.keras\")"
   ]
  },
  {
   "cell_type": "code",
   "execution_count": 19,
   "metadata": {},
   "outputs": [
    {
     "name": "stderr",
     "output_type": "stream",
     "text": [
      "WARNING:absl:Found untraced functions such as _jit_compiled_convolution_op, _jit_compiled_convolution_op, gru_cell_4_layer_call_fn, gru_cell_4_layer_call_and_return_conditional_losses, gru_cell_5_layer_call_fn while saving (showing 5 of 6). These functions will not be directly callable after loading.\n"
     ]
    },
    {
     "name": "stdout",
     "output_type": "stream",
     "text": [
      "INFO:tensorflow:Assets written to: C:\\Users\\manis\\AppData\\Local\\Temp\\tmp5t9mlepu\\assets\n"
     ]
    },
    {
     "name": "stderr",
     "output_type": "stream",
     "text": [
      "INFO:tensorflow:Assets written to: C:\\Users\\manis\\AppData\\Local\\Temp\\tmp5t9mlepu\\assets\n"
     ]
    },
    {
     "name": "stdout",
     "output_type": "stream",
     "text": [
      "TFLite model with SELECT_TF_OPS saved.\n"
     ]
    }
   ],
   "source": [
    "# Create converter\n",
    "converter = tf.lite.TFLiteConverter.from_keras_model(model)\n",
    "\n",
    "# Use Select TF Ops to allow unsupported operations\n",
    "converter.target_spec.supported_ops = [\n",
    "    tf.lite.OpsSet.TFLITE_BUILTINS,    # Default TFLite ops\n",
    "    tf.lite.OpsSet.SELECT_TF_OPS       # Enable TF ops not in TFLite\n",
    "]\n",
    "\n",
    "# Disable experimental lowering of tensor list ops\n",
    "converter._experimental_lower_tensor_list_ops = False\n",
    "\n",
    "# Optional: optimize for size/speed\n",
    "converter.optimizations = [tf.lite.Optimize.DEFAULT]\n",
    "\n",
    "# Convert\n",
    "tflite_model = converter.convert()\n",
    "\n",
    "# Save TFLite model\n",
    "with open(\"model_select_tf_ops_big_model.tflite\", \"wb\") as f:\n",
    "    f.write(tflite_model)\n",
    "\n",
    "print(\"TFLite model with SELECT_TF_OPS saved.\")\n"
   ]
  },
  {
   "cell_type": "code",
   "execution_count": null,
   "metadata": {},
   "outputs": [],
   "source": []
  }
 ],
 "metadata": {
  "kaggle": {
   "accelerator": "gpu",
   "dataSources": [
    {
     "datasetId": 7634850,
     "sourceId": 12125106,
     "sourceType": "datasetVersion"
    }
   ],
   "dockerImageVersionId": 31041,
   "isGpuEnabled": true,
   "isInternetEnabled": true,
   "language": "python",
   "sourceType": "notebook"
  },
  "kernelspec": {
   "display_name": "tensorai",
   "language": "python",
   "name": "python3"
  },
  "language_info": {
   "codemirror_mode": {
    "name": "ipython",
    "version": 3
   },
   "file_extension": ".py",
   "mimetype": "text/x-python",
   "name": "python",
   "nbconvert_exporter": "python",
   "pygments_lexer": "ipython3",
   "version": "3.10.15"
  }
 },
 "nbformat": 4,
 "nbformat_minor": 4
}
